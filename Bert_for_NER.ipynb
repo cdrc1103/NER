{
  "nbformat": 4,
  "nbformat_minor": 0,
  "metadata": {
    "colab": {
      "provenance": [],
      "collapsed_sections": [],
      "authorship_tag": "ABX9TyNk5nZJ7gw2VHnPH1qsU5dd",
      "include_colab_link": true
    },
    "kernelspec": {
      "name": "python3",
      "display_name": "Python 3"
    },
    "language_info": {
      "name": "python"
    },
    "accelerator": "GPU"
  },
  "cells": [
    {
      "cell_type": "markdown",
      "metadata": {
        "id": "view-in-github",
        "colab_type": "text"
      },
      "source": [
        "<a href=\"https://colab.research.google.com/github/cdrc1103/NER/blob/main/Bert_for_NER.ipynb\" target=\"_parent\"><img src=\"https://colab.research.google.com/assets/colab-badge.svg\" alt=\"Open In Colab\"/></a>"
      ]
    },
    {
      "cell_type": "code",
      "source": [
        "%%capture\n",
        "!pip install transformers"
      ],
      "metadata": {
        "id": "G95RVb9KOZFx"
      },
      "execution_count": 1,
      "outputs": []
    },
    {
      "cell_type": "code",
      "execution_count": 2,
      "metadata": {
        "id": "B6N82tmQOTMz"
      },
      "outputs": [],
      "source": [
        "%%capture\n",
        "from transformers import AutoTokenizer, AutoModelForTokenClassification\n",
        "from transformers import pipeline\n",
        "\n",
        "tokenizer = AutoTokenizer.from_pretrained(\"dslim/bert-base-NER\")\n",
        "model = AutoModelForTokenClassification.from_pretrained(\"dslim/bert-base-NER\")"
      ]
    },
    {
      "cell_type": "code",
      "source": [
        "ner = pipeline(\"ner\", model=model, tokenizer=tokenizer)\n",
        "example = \"\"\"\n",
        "My name is Wolfgang and I live in Berlin. Recently, I started working \n",
        "at Capgemini were I work as a data scientist.\n",
        "\"\"\"\n",
        "\n",
        "ner_results = ner(example)\n",
        "print(ner_results)"
      ],
      "metadata": {
        "colab": {
          "base_uri": "https://localhost:8080/"
        },
        "id": "ObYUSWLQoza2",
        "outputId": "4969df65-1c60-4706-ca6b-2eaa8b430960"
      },
      "execution_count": 20,
      "outputs": [
        {
          "output_type": "stream",
          "name": "stdout",
          "text": [
            "[{'entity': 'B-PER', 'score': 0.99913836, 'index': 4, 'word': 'Wolfgang', 'start': 12, 'end': 20}, {'entity': 'B-LOC', 'score': 0.9996517, 'index': 9, 'word': 'Berlin', 'start': 35, 'end': 41}, {'entity': 'B-ORG', 'score': 0.99671835, 'index': 17, 'word': 'Cap', 'start': 75, 'end': 78}, {'entity': 'I-ORG', 'score': 0.9911644, 'index': 18, 'word': '##ge', 'start': 78, 'end': 80}, {'entity': 'I-ORG', 'score': 0.9921948, 'index': 19, 'word': '##mini', 'start': 80, 'end': 84}]\n"
          ]
        }
      ]
    },
    {
      "cell_type": "code",
      "source": [
        "import copy\n",
        "\n",
        "def join_results(results):\n",
        "    joined_results = []\n",
        "    for result in results:\n",
        "        if \"##\" in result[\"word\"] and joined_results:\n",
        "            joined_results[-1][\"end\"] = result[\"end\"]\n",
        "            joined_results[-1][\"word\"] += remove_prefix(result[\"word\"], \"##\")\n",
        "            joined_results[-1][\"score\"] = min(joined_results[-1][\"score\"], result[\"score\"])\n",
        "        else:\n",
        "            joined_results.append(result)\n",
        "    return joined_results\n",
        "\n",
        "\n",
        "def clean_result(result):\n",
        "    result[\"label\"] = remove_prefix(result[\"entity\"], \"-\")\n",
        "    return result\n",
        "\n",
        "\n",
        "def remove_prefix(word, prefix):\n",
        "    if prefix in word:\n",
        "        return word.split(prefix, 1)[1]\n",
        "    return \" \" + word\n",
        "\n",
        "\n",
        "def convert_to_displacy_format(example, ner_results, threshold=0.9):\n",
        "    results = copy.deepcopy(ner_results)\n",
        "    joined_results = join_results(results)\n",
        "    filtered_results = [r for r in joined_results if r[\"score\"] > threshold]\n",
        "    cleaned_results = [clean_result(r) for r in filtered_results]\n",
        "    return [{\n",
        "        \"text\": example,\n",
        "        \"ents\": cleaned_results,\n",
        "        \"title\": None\n",
        "    }]"
      ],
      "metadata": {
        "id": "0kO8BchosEqN"
      },
      "execution_count": 55,
      "outputs": []
    },
    {
      "cell_type": "code",
      "source": [
        "from spacy import displacy\n",
        "displacy_results = convert_to_displacy_format(example, ner_results)\n",
        "displacy.render(displacy_results, style=\"ent\", jupyter=True, manual=True)"
      ],
      "metadata": {
        "colab": {
          "base_uri": "https://localhost:8080/",
          "height": 122
        },
        "id": "NbzgO7muQLJS",
        "outputId": "5bc9c2b4-a1a0-4dd5-c9fc-2e6031f575c8"
      },
      "execution_count": 16,
      "outputs": [
        {
          "output_type": "display_data",
          "data": {
            "text/plain": [
              "<IPython.core.display.HTML object>"
            ],
            "text/html": [
              "<span class=\"tex2jax_ignore\"><div class=\"entities\" style=\"line-height: 2.5; direction: ltr\"></br>My name is \n",
              "<mark class=\"entity\" style=\"background: #ddd; padding: 0.45em 0.6em; margin: 0 0.25em; line-height: 1; border-radius: 0.35em;\">\n",
              "    Wolfgang\n",
              "    <span style=\"font-size: 0.8em; font-weight: bold; line-height: 1; border-radius: 0.35em; vertical-align: middle; margin-left: 0.5rem\">PER</span>\n",
              "</mark>\n",
              " and I live in \n",
              "<mark class=\"entity\" style=\"background: #ff9561; padding: 0.45em 0.6em; margin: 0 0.25em; line-height: 1; border-radius: 0.35em;\">\n",
              "    Berlin\n",
              "    <span style=\"font-size: 0.8em; font-weight: bold; line-height: 1; border-radius: 0.35em; vertical-align: middle; margin-left: 0.5rem\">LOC</span>\n",
              "</mark>\n",
              ". Recently, I started working </br>at \n",
              "<mark class=\"entity\" style=\"background: #7aecec; padding: 0.45em 0.6em; margin: 0 0.25em; line-height: 1; border-radius: 0.35em;\">\n",
              "    Capgemini\n",
              "    <span style=\"font-size: 0.8em; font-weight: bold; line-height: 1; border-radius: 0.35em; vertical-align: middle; margin-left: 0.5rem\">ORG</span>\n",
              "</mark>\n",
              " were I work as a data scientist.</br></div></span>"
            ]
          },
          "metadata": {}
        }
      ]
    },
    {
      "cell_type": "code",
      "source": [
        "%%capture\n",
        "!pip install gradio\n",
        "import gradio as gr"
      ],
      "metadata": {
        "id": "kuZQqGqmgdvQ"
      },
      "execution_count": 18,
      "outputs": []
    },
    {
      "cell_type": "code",
      "source": [
        "def inference_pipeline(input_text: str) -> str:\n",
        "    \"\"\"Run NER model and return annotated text\"\"\"\n",
        "    ner_results = ner(input_text)\n",
        "    displacy_results = convert_to_displacy_format(input_text, ner_results)\n",
        "    return displacy.render(displacy_results, style=\"ent\", manual=True)"
      ],
      "metadata": {
        "id": "isWWmK1Qjq7p"
      },
      "execution_count": 34,
      "outputs": []
    },
    {
      "cell_type": "code",
      "source": [
        "EXAMPLE_INPUT = (\n",
        "    \"My name is Wolfgang and I live in Berlin. Recently, I started working \" \n",
        "    + \"at Brainlab were I work as a data scientist.\"\n",
        ")\n",
        "\n",
        "TITLE = \"Named Entity Recognition\"\n",
        "DESCRIPTION = (\n",
        "        \"Insert a text of your choice and let it be processed by the \"\n",
        "        + \"NER Model for Organizations, Persons, and Locations.\"\n",
        ")\n",
        "\n",
        "inputs = gr.Textbox(label=\"Input Text\")\n",
        "outputs = gr.HTML()\n",
        "\n",
        "demo = gr.Interface(\n",
        "    fn=inference_pipeline,\n",
        "    inputs=inputs,\n",
        "    outputs=outputs,\n",
        "    title=TITLE,\n",
        "    examples=[[EXAMPLE_INPUT]],\n",
        "    description=DESCRIPTION,\n",
        "    allow_flagging=\"never\"\n",
        ")\n",
        "demo.launch(debug=True)"
      ],
      "metadata": {
        "id": "1EiFGbVUg3UL"
      },
      "execution_count": null,
      "outputs": []
    }
  ]
}